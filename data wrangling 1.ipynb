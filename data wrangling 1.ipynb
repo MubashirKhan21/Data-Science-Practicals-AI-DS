{
 "cells": [
  {
   "cell_type": "code",
   "execution_count": 1,
   "id": "cb0b0875-7a14-4125-a38a-6afcad6ac34b",
   "metadata": {
    "scrolled": true
   },
   "outputs": [
    {
     "name": "stdin",
     "output_type": "stream",
     "text": [
      "Enter column names separated by commas:  age , class , number , id\n"
     ]
    },
    {
     "name": "stdout",
     "output_type": "stream",
     "text": [
      "Missing Values:\n",
      "age       0\n",
      "class     0\n",
      "number    0\n",
      "id        0\n",
      "dtype: int64\n",
      "\n",
      "Initial Statistics:\n",
      "              age       class      number\n",
      "count  150.000000  150.000000  150.000000\n",
      "mean     3.054000    3.758667    1.198667\n",
      "std      0.433594    1.764420    0.763161\n",
      "min      2.000000    1.000000    0.100000\n",
      "25%      2.800000    1.600000    0.300000\n",
      "50%      3.000000    4.350000    1.300000\n",
      "75%      3.300000    5.100000    1.800000\n",
      "max      4.400000    6.900000    2.500000\n",
      "\n",
      "Variable Descriptions:\n",
      "age       float64\n",
      "class     float64\n",
      "number    float64\n",
      "id         object\n",
      "dtype: object\n",
      "\n",
      "Data Dimensions:\n",
      "(150, 4)\n"
     ]
    }
   ],
   "source": [
    "# Import required Python libraries\n",
    "import pandas as pd\n",
    "import numpy as np\n",
    "\n",
    "# Locate open source data from the web\n",
    "# Example URL from UCI Machine Learning Repository\n",
    "url = \"https://archive.ics.uci.edu/ml/machine-learning-databases/iris/iris.data\"\n",
    "\n",
    "# Take user input for column names\n",
    "column_names_input = input(\"Enter column names separated by commas: \")\n",
    "column_names = [col.strip() for col in column_names_input.split(\",\")]\n",
    "\n",
    "# Load the dataset into pandas dataframe\n",
    "# Assuming the dataset has headers, if not, you may need to provide column names\n",
    "df = pd.read_csv(url, names=column_names)\n",
    "\n",
    "# Data Preprocessing\n",
    "missing_values = df.isnull().sum()\n",
    "initial_statistics = df.describe()\n",
    "\n",
    "# Variable Descriptions, Types, and Dimensions\n",
    "variable_descriptions = df.dtypes\n",
    "data_dimensions = df.shape\n",
    "\n",
    "# Data Formatting and Normalization\n",
    "# (For this example, assuming all columns are numeric)\n",
    "\n",
    "# Display the results\n",
    "print(\"Missing Values:\")\n",
    "print(missing_values)\n",
    "print(\"\\nInitial Statistics:\")\n",
    "print(initial_statistics)\n",
    "print(\"\\nVariable Descriptions:\")\n",
    "print(variable_descriptions)\n",
    "print(\"\\nData Dimensions:\")\n",
    "print(data_dimensions)"
   ]
  },
  {
   "cell_type": "code",
   "execution_count": null,
   "id": "715c65f4-4b26-4b16-bc58-36a3b20c229c",
   "metadata": {},
   "outputs": [],
   "source": []
  }
 ],
 "metadata": {
  "kernelspec": {
   "display_name": "Python 3 (ipykernel)",
   "language": "python",
   "name": "python3"
  },
  "language_info": {
   "codemirror_mode": {
    "name": "ipython",
    "version": 3
   },
   "file_extension": ".py",
   "mimetype": "text/x-python",
   "name": "python",
   "nbconvert_exporter": "python",
   "pygments_lexer": "ipython3",
   "version": "3.12.1"
  }
 },
 "nbformat": 4,
 "nbformat_minor": 5
}
