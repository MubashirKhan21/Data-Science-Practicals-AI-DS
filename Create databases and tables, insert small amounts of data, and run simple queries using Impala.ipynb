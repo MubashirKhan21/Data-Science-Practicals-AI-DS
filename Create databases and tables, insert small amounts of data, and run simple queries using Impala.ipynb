{
 "cells": [
  {
   "cell_type": "code",
   "execution_count": 1,
   "id": "93d89b33-5db0-4fdd-b37d-422364fa0c82",
   "metadata": {},
   "outputs": [
    {
     "name": "stdout",
     "output_type": "stream",
     "text": [
      "Customers:\n",
      "(1, 'John Doe', 30, 'john@example.com')\n",
      "(2, 'Jane Smith', 25, 'jane@example.com')\n",
      "\n",
      "Orders for Customer 1:\n",
      "(1, 1, 'Product A', 2, '2024-04-01')\n",
      "(2, 1, 'Product B', 1, '2024-04-02')\n",
      "\n",
      "Customer Orders:\n",
      "('John Doe', 'Product A', 2)\n",
      "('John Doe', 'Product B', 1)\n",
      "('Jane Smith', 'Product C', 3)\n"
     ]
    }
   ],
   "source": [
    "import sqlite3\n",
    "\n",
    "# Connect to SQLite database\n",
    "conn = sqlite3.connect('my_database.db')\n",
    "cursor = conn.cursor()\n",
    "\n",
    "# Create customers table\n",
    "cursor.execute('''CREATE TABLE IF NOT EXISTS customers (\n",
    "                    customer_id INTEGER PRIMARY KEY,\n",
    "                    name TEXT,\n",
    "                    age INTEGER,\n",
    "                    email TEXT\n",
    "                )''')\n",
    "\n",
    "# Create orders table\n",
    "cursor.execute('''CREATE TABLE IF NOT EXISTS orders (\n",
    "                    order_id INTEGER PRIMARY KEY,\n",
    "                    customer_id INTEGER,\n",
    "                    product TEXT,\n",
    "                    quantity INTEGER,\n",
    "                    order_date DATE\n",
    "                )''')\n",
    "\n",
    "# Insert data into customers table\n",
    "cursor.execute('''INSERT INTO customers (customer_id, name, age, email)\n",
    "                  VALUES (1, 'John Doe', 30, 'john@example.com')''')\n",
    "\n",
    "cursor.execute('''INSERT INTO customers (customer_id, name, age, email)\n",
    "                  VALUES (2, 'Jane Smith', 25, 'jane@example.com')''')\n",
    "\n",
    "# Insert data into orders table\n",
    "cursor.execute('''INSERT INTO orders (order_id, customer_id, product, quantity, order_date)\n",
    "                  VALUES (1, 1, 'Product A', 2, '2024-04-01')''')\n",
    "\n",
    "cursor.execute('''INSERT INTO orders (order_id, customer_id, product, quantity, order_date)\n",
    "                  VALUES (2, 1, 'Product B', 1, '2024-04-02')''')\n",
    "\n",
    "cursor.execute('''INSERT INTO orders (order_id, customer_id, product, quantity, order_date)\n",
    "                  VALUES (3, 2, 'Product C', 3, '2024-04-02')''')\n",
    "\n",
    "# Commit changes and close connection\n",
    "conn.commit()\n",
    "conn.close()\n",
    "\n",
    "# Connect again to execute queries\n",
    "conn = sqlite3.connect('my_database.db')\n",
    "cursor = conn.cursor()\n",
    "\n",
    "# Run queries\n",
    "cursor.execute('''SELECT * FROM customers''')\n",
    "print(\"Customers:\")\n",
    "for row in cursor.fetchall():\n",
    "    print(row)\n",
    "\n",
    "cursor.execute('''SELECT * FROM orders WHERE customer_id = 1''')\n",
    "print(\"\\nOrders for Customer 1:\")\n",
    "for row in cursor.fetchall():\n",
    "    print(row)\n",
    "\n",
    "cursor.execute('''SELECT c.name, o.product, o.quantity\n",
    "                  FROM customers c\n",
    "                  JOIN orders o ON c.customer_id = o.customer_id''')\n",
    "print(\"\\nCustomer Orders:\")\n",
    "for row in cursor.fetchall():\n",
    "    print(row)\n",
    "\n",
    "# Close connection\n",
    "conn.close()"
   ]
  },
  {
   "cell_type": "code",
   "execution_count": null,
   "id": "91d77645-816c-485e-8344-5f2caeb9e4e1",
   "metadata": {},
   "outputs": [],
   "source": []
  }
 ],
 "metadata": {
  "kernelspec": {
   "display_name": "Python 3 (ipykernel)",
   "language": "python",
   "name": "python3"
  },
  "language_info": {
   "codemirror_mode": {
    "name": "ipython",
    "version": 3
   },
   "file_extension": ".py",
   "mimetype": "text/x-python",
   "name": "python",
   "nbconvert_exporter": "python",
   "pygments_lexer": "ipython3",
   "version": "3.12.1"
  }
 },
 "nbformat": 4,
 "nbformat_minor": 5
}
