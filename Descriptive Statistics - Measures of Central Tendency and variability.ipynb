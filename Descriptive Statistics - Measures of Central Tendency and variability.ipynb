{
 "cells": [
  {
   "cell_type": "code",
   "execution_count": 32,
   "id": "fa3e863c-f10f-4420-9565-34b7f84b5b39",
   "metadata": {},
   "outputs": [],
   "source": [
    "import pandas as pd\n",
    "import numpy as np\n",
    "import matplotlib.pyplot as plt\n",
    "import seaborn as sns\n",
    "%matplotlib inline"
   ]
  },
  {
   "cell_type": "code",
   "execution_count": 33,
   "id": "be5e6d09-3a3a-41db-9ba0-2735d63c8fbf",
   "metadata": {},
   "outputs": [],
   "source": [
    "import warnings\n",
    "warnings.filterwarnings('ignore')"
   ]
  },
  {
   "cell_type": "code",
   "execution_count": 34,
   "id": "8d6d8fb9-6f40-4370-b9bb-0cc21d89ab9e",
   "metadata": {},
   "outputs": [],
   "source": [
    "data = r\"C:\\Users\\MUBASHIR KHAN\\Desktop\\jupyter\\practicals ds\\fortune500.csv\""
   ]
  },
  {
   "cell_type": "code",
   "execution_count": 35,
   "id": "91c2c5b3-d5fb-475f-8971-d9e6395ad237",
   "metadata": {},
   "outputs": [],
   "source": [
    "df = pd.read_csv(data)"
   ]
  },
  {
   "cell_type": "code",
   "execution_count": 36,
   "id": "a6919a28-b4c6-45de-a894-319f0848ec8b",
   "metadata": {},
   "outputs": [
    {
     "data": {
      "text/plain": [
       "(1000, 7)"
      ]
     },
     "execution_count": 36,
     "metadata": {},
     "output_type": "execute_result"
    }
   ],
   "source": [
    "df.shape"
   ]
  },
  {
   "cell_type": "code",
   "execution_count": 37,
   "id": "1147b678-472f-4b55-8700-adbc4d2927b1",
   "metadata": {},
   "outputs": [
    {
     "data": {
      "text/html": [
       "<div>\n",
       "<style scoped>\n",
       "    .dataframe tbody tr th:only-of-type {\n",
       "        vertical-align: middle;\n",
       "    }\n",
       "\n",
       "    .dataframe tbody tr th {\n",
       "        vertical-align: top;\n",
       "    }\n",
       "\n",
       "    .dataframe thead th {\n",
       "        text-align: right;\n",
       "    }\n",
       "</style>\n",
       "<table border=\"1\" class=\"dataframe\">\n",
       "  <thead>\n",
       "    <tr style=\"text-align: right;\">\n",
       "      <th></th>\n",
       "      <th>lon</th>\n",
       "      <th>lat</th>\n",
       "      <th>company</th>\n",
       "      <th>location</th>\n",
       "      <th>industry</th>\n",
       "      <th>state</th>\n",
       "      <th>city</th>\n",
       "    </tr>\n",
       "  </thead>\n",
       "  <tbody>\n",
       "    <tr>\n",
       "      <th>0</th>\n",
       "      <td>-94.2088</td>\n",
       "      <td>36.3729</td>\n",
       "      <td>Walmart</td>\n",
       "      <td>Bentonville, AR</td>\n",
       "      <td>General Merchandisers</td>\n",
       "      <td>AR</td>\n",
       "      <td>Bentonville</td>\n",
       "    </tr>\n",
       "    <tr>\n",
       "      <th>1</th>\n",
       "      <td>-96.9489</td>\n",
       "      <td>32.8140</td>\n",
       "      <td>Exxon Mobil</td>\n",
       "      <td>Irving, TX</td>\n",
       "      <td>Petroleum Refining</td>\n",
       "      <td>TX</td>\n",
       "      <td>Irving</td>\n",
       "    </tr>\n",
       "    <tr>\n",
       "      <th>2</th>\n",
       "      <td>-121.9780</td>\n",
       "      <td>37.7799</td>\n",
       "      <td>Chevron</td>\n",
       "      <td>San Ramon, CA</td>\n",
       "      <td>Petroleum Refining</td>\n",
       "      <td>CA</td>\n",
       "      <td>San Ramon</td>\n",
       "    </tr>\n",
       "    <tr>\n",
       "      <th>3</th>\n",
       "      <td>-95.9980</td>\n",
       "      <td>41.2524</td>\n",
       "      <td>Berkshire Hathaway</td>\n",
       "      <td>Omaha, NE</td>\n",
       "      <td>Insurance: Property and Casualty (Stock)</td>\n",
       "      <td>NE</td>\n",
       "      <td>Omaha</td>\n",
       "    </tr>\n",
       "    <tr>\n",
       "      <th>4</th>\n",
       "      <td>-122.0320</td>\n",
       "      <td>37.3230</td>\n",
       "      <td>Apple</td>\n",
       "      <td>Cupertino, CA</td>\n",
       "      <td>Computers, Office Equipment</td>\n",
       "      <td>CA</td>\n",
       "      <td>Cupertino</td>\n",
       "    </tr>\n",
       "  </tbody>\n",
       "</table>\n",
       "</div>"
      ],
      "text/plain": [
       "        lon      lat             company         location  \\\n",
       "0  -94.2088  36.3729             Walmart  Bentonville, AR   \n",
       "1  -96.9489  32.8140         Exxon Mobil       Irving, TX   \n",
       "2 -121.9780  37.7799             Chevron    San Ramon, CA   \n",
       "3  -95.9980  41.2524  Berkshire Hathaway        Omaha, NE   \n",
       "4 -122.0320  37.3230               Apple    Cupertino, CA   \n",
       "\n",
       "                                   industry state         city  \n",
       "0                     General Merchandisers    AR  Bentonville  \n",
       "1                        Petroleum Refining    TX       Irving  \n",
       "2                        Petroleum Refining    CA    San Ramon  \n",
       "3  Insurance: Property and Casualty (Stock)    NE        Omaha  \n",
       "4               Computers, Office Equipment    CA    Cupertino  "
      ]
     },
     "execution_count": 37,
     "metadata": {},
     "output_type": "execute_result"
    }
   ],
   "source": [
    "df.head()"
   ]
  },
  {
   "cell_type": "code",
   "execution_count": 38,
   "id": "f807c7d0-c79b-436e-8a61-ab7f8bfb9134",
   "metadata": {},
   "outputs": [
    {
     "name": "stdout",
     "output_type": "stream",
     "text": [
      "<class 'pandas.core.frame.DataFrame'>\n",
      "RangeIndex: 1000 entries, 0 to 999\n",
      "Data columns (total 7 columns):\n",
      " #   Column    Non-Null Count  Dtype  \n",
      "---  ------    --------------  -----  \n",
      " 0   lon       1000 non-null   float64\n",
      " 1   lat       1000 non-null   float64\n",
      " 2   company   1000 non-null   object \n",
      " 3   location  1000 non-null   object \n",
      " 4   industry  1000 non-null   object \n",
      " 5   state     1000 non-null   object \n",
      " 6   city      1000 non-null   object \n",
      "dtypes: float64(2), object(5)\n",
      "memory usage: 54.8+ KB\n"
     ]
    }
   ],
   "source": [
    "df.info()"
   ]
  },
  {
   "cell_type": "code",
   "execution_count": 39,
   "id": "cec7e9cb-1778-48d8-967b-ea1b7d736a10",
   "metadata": {},
   "outputs": [
    {
     "data": {
      "text/plain": [
       "lon         0\n",
       "lat         0\n",
       "company     0\n",
       "location    0\n",
       "industry    0\n",
       "state       0\n",
       "city        0\n",
       "dtype: int64"
      ]
     },
     "execution_count": 39,
     "metadata": {},
     "output_type": "execute_result"
    }
   ],
   "source": [
    "df.isnull().sum()"
   ]
  },
  {
   "cell_type": "code",
   "execution_count": 40,
   "id": "6dc68f35-2f53-4cf6-b383-08c1a495dde6",
   "metadata": {},
   "outputs": [
    {
     "data": {
      "text/html": [
       "<div>\n",
       "<style scoped>\n",
       "    .dataframe tbody tr th:only-of-type {\n",
       "        vertical-align: middle;\n",
       "    }\n",
       "\n",
       "    .dataframe tbody tr th {\n",
       "        vertical-align: top;\n",
       "    }\n",
       "\n",
       "    .dataframe thead th {\n",
       "        text-align: right;\n",
       "    }\n",
       "</style>\n",
       "<table border=\"1\" class=\"dataframe\">\n",
       "  <thead>\n",
       "    <tr style=\"text-align: right;\">\n",
       "      <th></th>\n",
       "      <th>lon</th>\n",
       "      <th>lat</th>\n",
       "    </tr>\n",
       "  </thead>\n",
       "  <tbody>\n",
       "    <tr>\n",
       "      <th>count</th>\n",
       "      <td>1000.000000</td>\n",
       "      <td>1000.000000</td>\n",
       "    </tr>\n",
       "    <tr>\n",
       "      <th>mean</th>\n",
       "      <td>-89.886327</td>\n",
       "      <td>38.135856</td>\n",
       "    </tr>\n",
       "    <tr>\n",
       "      <th>std</th>\n",
       "      <td>15.414198</td>\n",
       "      <td>4.614641</td>\n",
       "    </tr>\n",
       "    <tr>\n",
       "      <th>min</th>\n",
       "      <td>-157.858000</td>\n",
       "      <td>18.429400</td>\n",
       "    </tr>\n",
       "    <tr>\n",
       "      <th>25%</th>\n",
       "      <td>-95.994100</td>\n",
       "      <td>34.968775</td>\n",
       "    </tr>\n",
       "    <tr>\n",
       "      <th>50%</th>\n",
       "      <td>-86.158100</td>\n",
       "      <td>39.647800</td>\n",
       "    </tr>\n",
       "    <tr>\n",
       "      <th>75%</th>\n",
       "      <td>-77.177300</td>\n",
       "      <td>41.252400</td>\n",
       "    </tr>\n",
       "    <tr>\n",
       "      <th>max</th>\n",
       "      <td>-66.060200</td>\n",
       "      <td>47.674000</td>\n",
       "    </tr>\n",
       "  </tbody>\n",
       "</table>\n",
       "</div>"
      ],
      "text/plain": [
       "               lon          lat\n",
       "count  1000.000000  1000.000000\n",
       "mean    -89.886327    38.135856\n",
       "std      15.414198     4.614641\n",
       "min    -157.858000    18.429400\n",
       "25%     -95.994100    34.968775\n",
       "50%     -86.158100    39.647800\n",
       "75%     -77.177300    41.252400\n",
       "max     -66.060200    47.674000"
      ]
     },
     "execution_count": 40,
     "metadata": {},
     "output_type": "execute_result"
    }
   ],
   "source": [
    "df.describe()"
   ]
  },
  {
   "cell_type": "code",
   "execution_count": 41,
   "id": "6d629497-c8cd-4fc5-9021-2685e6fac8f3",
   "metadata": {},
   "outputs": [
    {
     "data": {
      "text/html": [
       "<div>\n",
       "<style scoped>\n",
       "    .dataframe tbody tr th:only-of-type {\n",
       "        vertical-align: middle;\n",
       "    }\n",
       "\n",
       "    .dataframe tbody tr th {\n",
       "        vertical-align: top;\n",
       "    }\n",
       "\n",
       "    .dataframe thead th {\n",
       "        text-align: right;\n",
       "    }\n",
       "</style>\n",
       "<table border=\"1\" class=\"dataframe\">\n",
       "  <thead>\n",
       "    <tr style=\"text-align: right;\">\n",
       "      <th></th>\n",
       "      <th>company</th>\n",
       "      <th>location</th>\n",
       "      <th>industry</th>\n",
       "      <th>state</th>\n",
       "      <th>city</th>\n",
       "    </tr>\n",
       "  </thead>\n",
       "  <tbody>\n",
       "    <tr>\n",
       "      <th>count</th>\n",
       "      <td>1000</td>\n",
       "      <td>1000</td>\n",
       "      <td>1000</td>\n",
       "      <td>1000</td>\n",
       "      <td>1000</td>\n",
       "    </tr>\n",
       "    <tr>\n",
       "      <th>unique</th>\n",
       "      <td>1000</td>\n",
       "      <td>410</td>\n",
       "      <td>74</td>\n",
       "      <td>45</td>\n",
       "      <td>394</td>\n",
       "    </tr>\n",
       "    <tr>\n",
       "      <th>top</th>\n",
       "      <td>Walmart</td>\n",
       "      <td>New York, NY</td>\n",
       "      <td>Specialty Retailers: Other</td>\n",
       "      <td>TX</td>\n",
       "      <td>New York</td>\n",
       "    </tr>\n",
       "    <tr>\n",
       "      <th>freq</th>\n",
       "      <td>1</td>\n",
       "      <td>71</td>\n",
       "      <td>43</td>\n",
       "      <td>107</td>\n",
       "      <td>71</td>\n",
       "    </tr>\n",
       "  </tbody>\n",
       "</table>\n",
       "</div>"
      ],
      "text/plain": [
       "        company      location                    industry state      city\n",
       "count      1000          1000                        1000  1000      1000\n",
       "unique     1000           410                          74    45       394\n",
       "top     Walmart  New York, NY  Specialty Retailers: Other    TX  New York\n",
       "freq          1            71                          43   107        71"
      ]
     },
     "execution_count": 41,
     "metadata": {},
     "output_type": "execute_result"
    }
   ],
   "source": [
    "df.describe(include=['object'])"
   ]
  },
  {
   "cell_type": "code",
   "execution_count": 42,
   "id": "3c88b846-57f9-44a4-a563-79eaa1b0bfd2",
   "metadata": {},
   "outputs": [
    {
     "data": {
      "text/html": [
       "<div>\n",
       "<style scoped>\n",
       "    .dataframe tbody tr th:only-of-type {\n",
       "        vertical-align: middle;\n",
       "    }\n",
       "\n",
       "    .dataframe tbody tr th {\n",
       "        vertical-align: top;\n",
       "    }\n",
       "\n",
       "    .dataframe thead th {\n",
       "        text-align: right;\n",
       "    }\n",
       "</style>\n",
       "<table border=\"1\" class=\"dataframe\">\n",
       "  <thead>\n",
       "    <tr style=\"text-align: right;\">\n",
       "      <th></th>\n",
       "      <th>lon</th>\n",
       "      <th>lat</th>\n",
       "      <th>company</th>\n",
       "      <th>location</th>\n",
       "      <th>industry</th>\n",
       "      <th>state</th>\n",
       "      <th>city</th>\n",
       "    </tr>\n",
       "  </thead>\n",
       "  <tbody>\n",
       "    <tr>\n",
       "      <th>count</th>\n",
       "      <td>1000.000000</td>\n",
       "      <td>1000.000000</td>\n",
       "      <td>1000</td>\n",
       "      <td>1000</td>\n",
       "      <td>1000</td>\n",
       "      <td>1000</td>\n",
       "      <td>1000</td>\n",
       "    </tr>\n",
       "    <tr>\n",
       "      <th>unique</th>\n",
       "      <td>NaN</td>\n",
       "      <td>NaN</td>\n",
       "      <td>1000</td>\n",
       "      <td>410</td>\n",
       "      <td>74</td>\n",
       "      <td>45</td>\n",
       "      <td>394</td>\n",
       "    </tr>\n",
       "    <tr>\n",
       "      <th>top</th>\n",
       "      <td>NaN</td>\n",
       "      <td>NaN</td>\n",
       "      <td>Walmart</td>\n",
       "      <td>New York, NY</td>\n",
       "      <td>Specialty Retailers: Other</td>\n",
       "      <td>TX</td>\n",
       "      <td>New York</td>\n",
       "    </tr>\n",
       "    <tr>\n",
       "      <th>freq</th>\n",
       "      <td>NaN</td>\n",
       "      <td>NaN</td>\n",
       "      <td>1</td>\n",
       "      <td>71</td>\n",
       "      <td>43</td>\n",
       "      <td>107</td>\n",
       "      <td>71</td>\n",
       "    </tr>\n",
       "    <tr>\n",
       "      <th>mean</th>\n",
       "      <td>-89.886327</td>\n",
       "      <td>38.135856</td>\n",
       "      <td>NaN</td>\n",
       "      <td>NaN</td>\n",
       "      <td>NaN</td>\n",
       "      <td>NaN</td>\n",
       "      <td>NaN</td>\n",
       "    </tr>\n",
       "    <tr>\n",
       "      <th>std</th>\n",
       "      <td>15.414198</td>\n",
       "      <td>4.614641</td>\n",
       "      <td>NaN</td>\n",
       "      <td>NaN</td>\n",
       "      <td>NaN</td>\n",
       "      <td>NaN</td>\n",
       "      <td>NaN</td>\n",
       "    </tr>\n",
       "    <tr>\n",
       "      <th>min</th>\n",
       "      <td>-157.858000</td>\n",
       "      <td>18.429400</td>\n",
       "      <td>NaN</td>\n",
       "      <td>NaN</td>\n",
       "      <td>NaN</td>\n",
       "      <td>NaN</td>\n",
       "      <td>NaN</td>\n",
       "    </tr>\n",
       "    <tr>\n",
       "      <th>25%</th>\n",
       "      <td>-95.994100</td>\n",
       "      <td>34.968775</td>\n",
       "      <td>NaN</td>\n",
       "      <td>NaN</td>\n",
       "      <td>NaN</td>\n",
       "      <td>NaN</td>\n",
       "      <td>NaN</td>\n",
       "    </tr>\n",
       "    <tr>\n",
       "      <th>50%</th>\n",
       "      <td>-86.158100</td>\n",
       "      <td>39.647800</td>\n",
       "      <td>NaN</td>\n",
       "      <td>NaN</td>\n",
       "      <td>NaN</td>\n",
       "      <td>NaN</td>\n",
       "      <td>NaN</td>\n",
       "    </tr>\n",
       "    <tr>\n",
       "      <th>75%</th>\n",
       "      <td>-77.177300</td>\n",
       "      <td>41.252400</td>\n",
       "      <td>NaN</td>\n",
       "      <td>NaN</td>\n",
       "      <td>NaN</td>\n",
       "      <td>NaN</td>\n",
       "      <td>NaN</td>\n",
       "    </tr>\n",
       "    <tr>\n",
       "      <th>max</th>\n",
       "      <td>-66.060200</td>\n",
       "      <td>47.674000</td>\n",
       "      <td>NaN</td>\n",
       "      <td>NaN</td>\n",
       "      <td>NaN</td>\n",
       "      <td>NaN</td>\n",
       "      <td>NaN</td>\n",
       "    </tr>\n",
       "  </tbody>\n",
       "</table>\n",
       "</div>"
      ],
      "text/plain": [
       "                lon          lat  company      location  \\\n",
       "count   1000.000000  1000.000000     1000          1000   \n",
       "unique          NaN          NaN     1000           410   \n",
       "top             NaN          NaN  Walmart  New York, NY   \n",
       "freq            NaN          NaN        1            71   \n",
       "mean     -89.886327    38.135856      NaN           NaN   \n",
       "std       15.414198     4.614641      NaN           NaN   \n",
       "min     -157.858000    18.429400      NaN           NaN   \n",
       "25%      -95.994100    34.968775      NaN           NaN   \n",
       "50%      -86.158100    39.647800      NaN           NaN   \n",
       "75%      -77.177300    41.252400      NaN           NaN   \n",
       "max      -66.060200    47.674000      NaN           NaN   \n",
       "\n",
       "                          industry state      city  \n",
       "count                         1000  1000      1000  \n",
       "unique                          74    45       394  \n",
       "top     Specialty Retailers: Other    TX  New York  \n",
       "freq                            43   107        71  \n",
       "mean                           NaN   NaN       NaN  \n",
       "std                            NaN   NaN       NaN  \n",
       "min                            NaN   NaN       NaN  \n",
       "25%                            NaN   NaN       NaN  \n",
       "50%                            NaN   NaN       NaN  \n",
       "75%                            NaN   NaN       NaN  \n",
       "max                            NaN   NaN       NaN  "
      ]
     },
     "execution_count": 42,
     "metadata": {},
     "output_type": "execute_result"
    }
   ],
   "source": [
    "df.describe(include='all')"
   ]
  },
  {
   "cell_type": "code",
   "execution_count": 45,
   "id": "cd502719-2703-48c4-b275-7e8cec972c10",
   "metadata": {},
   "outputs": [],
   "source": [
    "mean = df['lat'].mean()"
   ]
  },
  {
   "cell_type": "code",
   "execution_count": 46,
   "id": "fccb7c2e-3af3-480c-a862-99faef33a027",
   "metadata": {},
   "outputs": [
    {
     "data": {
      "text/plain": [
       "38.135855899999996"
      ]
     },
     "execution_count": 46,
     "metadata": {},
     "output_type": "execute_result"
    }
   ],
   "source": [
    "mean"
   ]
  },
  {
   "cell_type": "code",
   "execution_count": 47,
   "id": "4ed73123-4afa-4aa3-b047-843b886f6a8f",
   "metadata": {},
   "outputs": [
    {
     "name": "stdout",
     "output_type": "stream",
     "text": [
      "39.6478\n"
     ]
    }
   ],
   "source": [
    "median = df['lat'].median()\n",
    "\n",
    "print(median)"
   ]
  },
  {
   "cell_type": "code",
   "execution_count": 48,
   "id": "1dc243e0-dddd-4582-9615-97078db30862",
   "metadata": {},
   "outputs": [
    {
     "name": "stdout",
     "output_type": "stream",
     "text": [
      "0    40.7128\n",
      "Name: lat, dtype: float64\n"
     ]
    }
   ],
   "source": [
    "mode = df['lat'].mode()\n",
    "\n",
    "print(mode)"
   ]
  },
  {
   "cell_type": "code",
   "execution_count": 49,
   "id": "73367f2f-3baf-41f6-886c-9203325a1312",
   "metadata": {},
   "outputs": [
    {
     "data": {
      "text/plain": [
       "<Axes: xlabel='lat', ylabel='Density'>"
      ]
     },
     "execution_count": 49,
     "metadata": {},
     "output_type": "execute_result"
    },
    {
     "data": {
      "image/png": "[encoded data removed]",
      "text/plain": [
       "<Figure size 640x480 with 1 Axes>"
      ]
     },
     "metadata": {},
     "output_type": "display_data"
    }
   ],
   "source": [
    "data = df['lat']\n",
    "\n",
    "sns.distplot(data, bins=10, hist=True, kde=True, label = 'lat')"
   ]
  },
  {
   "cell_type": "code",
   "execution_count": 50,
   "id": "0ca1abc3-c4a2-42c8-8f39-cf8ee9c14339",
   "metadata": {},
   "outputs": [
    {
     "data": {
      "text/plain": [
       "47.674"
      ]
     },
     "execution_count": 50,
     "metadata": {},
     "output_type": "execute_result"
    }
   ],
   "source": [
    "df['lat'].max()"
   ]
  },
  {
   "cell_type": "code",
   "execution_count": 51,
   "id": "bde34d22-fddb-43a4-ab37-cf2192e50123",
   "metadata": {},
   "outputs": [
    {
     "data": {
      "text/plain": [
       "18.4294"
      ]
     },
     "execution_count": 51,
     "metadata": {},
     "output_type": "execute_result"
    }
   ],
   "source": [
    "df['lat'].min()"
   ]
  },
  {
   "cell_type": "code",
   "execution_count": 52,
   "id": "41dcefb4-7175-414a-8200-f00844cdba34",
   "metadata": {},
   "outputs": [
    {
     "data": {
      "text/plain": [
       "29.2446"
      ]
     },
     "execution_count": 52,
     "metadata": {},
     "output_type": "execute_result"
    }
   ],
   "source": [
    "df['lat'].max() - df['lat'].min()"
   ]
  },
  {
   "cell_type": "code",
   "execution_count": 53,
   "id": "79c9736c-3bfb-48e5-a50a-361edac93a63",
   "metadata": {},
   "outputs": [
    {
     "data": {
      "text/plain": [
       "21.294915499804997"
      ]
     },
     "execution_count": 53,
     "metadata": {},
     "output_type": "execute_result"
    }
   ],
   "source": [
    "df['lat'].var()"
   ]
  },
  {
   "cell_type": "code",
   "execution_count": 54,
   "id": "1f67091d-db60-40e7-a9bd-d8f6adb8e559",
   "metadata": {},
   "outputs": [
    {
     "data": {
      "text/plain": [
       "4.61464142700221"
      ]
     },
     "execution_count": 54,
     "metadata": {},
     "output_type": "execute_result"
    }
   ],
   "source": [
    "df['lat'].std()"
   ]
  },
  {
   "cell_type": "code",
   "execution_count": 55,
   "id": "da8b9b3b-b5fd-4cbd-b37c-247bfad9de0d",
   "metadata": {},
   "outputs": [
    {
     "data": {
      "text/plain": [
       "39.6478"
      ]
     },
     "execution_count": 55,
     "metadata": {},
     "output_type": "execute_result"
    }
   ],
   "source": [
    "Q2 = df['lat'].quantile(0.5)\n",
    "\n",
    "Q2"
   ]
  },
  {
   "cell_type": "code",
   "execution_count": 56,
   "id": "fd2679ed-32b5-407e-88b4-ca7dd195f70b",
   "metadata": {},
   "outputs": [
    {
     "data": {
      "text/plain": [
       "41.2524"
      ]
     },
     "execution_count": 56,
     "metadata": {},
     "output_type": "execute_result"
    }
   ],
   "source": [
    "Q3 = df['lat'].quantile(0.75)\n",
    "\n",
    "Q3"
   ]
  },
  {
   "cell_type": "code",
   "execution_count": 57,
   "id": "7edabc7c-bccd-43b3-9071-b09ce73ea2c5",
   "metadata": {},
   "outputs": [
    {
     "data": {
      "text/plain": [
       "34.968774999999994"
      ]
     },
     "execution_count": 57,
     "metadata": {},
     "output_type": "execute_result"
    }
   ],
   "source": [
    "Q1 = df['lat'].quantile(0.25)\n",
    "\n",
    "Q1"
   ]
  },
  {
   "cell_type": "code",
   "execution_count": 58,
   "id": "452c9d65-0575-49a7-8603-deb6973183b3",
   "metadata": {},
   "outputs": [
    {
     "data": {
      "text/plain": [
       "6.283625000000008"
      ]
     },
     "execution_count": 58,
     "metadata": {},
     "output_type": "execute_result"
    }
   ],
   "source": [
    "IQR = Q3  - Q1\n",
    "\n",
    "IQR"
   ]
  },
  {
   "cell_type": "code",
   "execution_count": 59,
   "id": "0e701e30-adc1-478b-842d-b326d68b959a",
   "metadata": {},
   "outputs": [
    {
     "data": {
      "image/png": "[encoded data removed]",
      "text/plain": [
       "<Figure size 640x480 with 1 Axes>"
      ]
     },
     "metadata": {},
     "output_type": "display_data"
    }
   ],
   "source": [
    "plt.boxplot(df['lat'])\n",
    "\n",
    "plt.show()"
   ]
  },
  {
   "cell_type": "code",
   "execution_count": 60,
   "id": "c49a24ee-32e0-4faa-9943-5400285abd01",
   "metadata": {},
   "outputs": [
    {
     "data": {
      "text/plain": [
       "-0.789707631340853"
      ]
     },
     "execution_count": 60,
     "metadata": {},
     "output_type": "execute_result"
    }
   ],
   "source": [
    "df['lat'].skew()"
   ]
  },
  {
   "cell_type": "code",
   "execution_count": 61,
   "id": "de043822-7cbf-4deb-8429-d454d127046d",
   "metadata": {},
   "outputs": [
    {
     "data": {
      "text/plain": [
       "0.48917036092931054"
      ]
     },
     "execution_count": 61,
     "metadata": {},
     "output_type": "execute_result"
    }
   ],
   "source": [
    "df['lat'].kurt()"
   ]
  }
 ],
 "metadata": {
  "kernelspec": {
   "display_name": "Python 3 (ipykernel)",
   "language": "python",
   "name": "python3"
  },
  "language_info": {
   "codemirror_mode": {
    "name": "ipython",
    "version": 3
   },
   "file_extension": ".py",
   "mimetype": "text/x-python",
   "name": "python",
   "nbconvert_exporter": "python",
   "pygments_lexer": "ipython3",
   "version": "3.12.1"
  }
 },
 "nbformat": 4,
 "nbformat_minor": 5
}
